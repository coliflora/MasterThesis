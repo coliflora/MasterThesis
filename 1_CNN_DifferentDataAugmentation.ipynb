{
  "cells": [
    {
      "cell_type": "markdown",
      "metadata": {
        "id": "ETiXLOP8gbJ1"
      },
      "source": [
        "# Convolutional Neural Network (CNN)"
      ]
    },
    {
      "cell_type": "markdown",
      "source": [
        "Deep Learning-based methods for individual recognition of *Calotriton Asper*,\n",
        "Master's Thesis"
      ],
      "metadata": {
        "id": "HtkvcIbgTWGb"
      }
    },
    {
      "cell_type": "markdown",
      "metadata": {
        "id": "06S9lQSlga90"
      },
      "source": [
        "Lola Pailler García 1430776"
      ]
    },
    {
      "cell_type": "code",
      "execution_count": null,
      "metadata": {
        "colab": {
          "base_uri": "https://localhost:8080/"
        },
        "id": "KxBID14AgSTQ",
        "outputId": "2b667315-e466-4469-8fff-82afcaf35b00"
      },
      "outputs": [
        {
          "output_type": "stream",
          "name": "stdout",
          "text": [
            "Mounted at /content/drive/\n"
          ]
        }
      ],
      "source": [
        "BASE_FOLDER = '/content/drive/My Drive/'\n",
        "from google.colab import drive\n",
        "drive.mount('/content/drive/', force_remount = True)"
      ]
    },
    {
      "cell_type": "code",
      "execution_count": null,
      "metadata": {
        "id": "be9j06jagerz"
      },
      "outputs": [],
      "source": [
        "from numpy import array, zeros\n",
        "from os.path import join\n",
        "from skimage.color import gray2rgb\n",
        "from skimage.io import imread\n",
        "from skimage.transform import resize\n",
        "import pandas as pd\n",
        "import numpy as np\n",
        "import os\n",
        "import cv2\n",
        "import matplotlib.pyplot as plt\n",
        "%matplotlib inline\n",
        "from skimage.io import imshow\n",
        "import imutils\n",
        "import keras\n",
        "import tensorflow as tf\n",
        "import tensorflow_datasets as tfds"
      ]
    },
    {
      "cell_type": "markdown",
      "source": [
        "We read the correspondences file"
      ],
      "metadata": {
        "id": "PSZak8NLC_IF"
      }
    },
    {
      "cell_type": "code",
      "execution_count": null,
      "metadata": {
        "colab": {
          "base_uri": "https://localhost:8080/",
          "height": 642
        },
        "id": "Pv3PdLiihBPQ",
        "outputId": "09e777dc-84d2-4db8-e9ff-156a4ddceb32"
      },
      "outputs": [
        {
          "output_type": "display_data",
          "data": {
            "text/plain": [
              "     Triton          Image            Location   Month  Year Orientation\n",
              "0     T0001  IMG_1833_2020           Mascarida  August  2020           U\n",
              "1     T0001  IMG_1834_2020           Mascarida  August  2020           U\n",
              "2     T0001  IMG_1835_2020           Mascarida  August  2020           U\n",
              "3     T0002  IMG_1836_2020           Mascarida  August  2020           U\n",
              "4     T0002  IMG_1837_2020           Mascarida  August  2020           U\n",
              "...     ...            ...                 ...     ...   ...         ...\n",
              "1557  L0016  IMG_1571_2021  Torrent de la Muga    July  2021           U\n",
              "1558  L0016  IMG_1572_2021  Torrent de la Muga    July  2021           U\n",
              "1559  L0016  IMG_1573_2021  Torrent de la Muga    July  2021           U\n",
              "1560  L0016  IMG_1574_2021  Torrent de la Muga    July  2021           U\n",
              "1561  L0016  IMG_1575_2021  Torrent de la Muga    July  2021           U\n",
              "\n",
              "[1562 rows x 6 columns]"
            ],
            "text/html": [
              "\n",
              "  <div id=\"df-439c7ac7-9f3c-44bc-b758-068f77463185\" class=\"colab-df-container\">\n",
              "    <div>\n",
              "<style scoped>\n",
              "    .dataframe tbody tr th:only-of-type {\n",
              "        vertical-align: middle;\n",
              "    }\n",
              "\n",
              "    .dataframe tbody tr th {\n",
              "        vertical-align: top;\n",
              "    }\n",
              "\n",
              "    .dataframe thead th {\n",
              "        text-align: right;\n",
              "    }\n",
              "</style>\n",
              "<table border=\"1\" class=\"dataframe\">\n",
              "  <thead>\n",
              "    <tr style=\"text-align: right;\">\n",
              "      <th></th>\n",
              "      <th>Triton</th>\n",
              "      <th>Image</th>\n",
              "      <th>Location</th>\n",
              "      <th>Month</th>\n",
              "      <th>Year</th>\n",
              "      <th>Orientation</th>\n",
              "    </tr>\n",
              "  </thead>\n",
              "  <tbody>\n",
              "    <tr>\n",
              "      <th>0</th>\n",
              "      <td>T0001</td>\n",
              "      <td>IMG_1833_2020</td>\n",
              "      <td>Mascarida</td>\n",
              "      <td>August</td>\n",
              "      <td>2020</td>\n",
              "      <td>U</td>\n",
              "    </tr>\n",
              "    <tr>\n",
              "      <th>1</th>\n",
              "      <td>T0001</td>\n",
              "      <td>IMG_1834_2020</td>\n",
              "      <td>Mascarida</td>\n",
              "      <td>August</td>\n",
              "      <td>2020</td>\n",
              "      <td>U</td>\n",
              "    </tr>\n",
              "    <tr>\n",
              "      <th>2</th>\n",
              "      <td>T0001</td>\n",
              "      <td>IMG_1835_2020</td>\n",
              "      <td>Mascarida</td>\n",
              "      <td>August</td>\n",
              "      <td>2020</td>\n",
              "      <td>U</td>\n",
              "    </tr>\n",
              "    <tr>\n",
              "      <th>3</th>\n",
              "      <td>T0002</td>\n",
              "      <td>IMG_1836_2020</td>\n",
              "      <td>Mascarida</td>\n",
              "      <td>August</td>\n",
              "      <td>2020</td>\n",
              "      <td>U</td>\n",
              "    </tr>\n",
              "    <tr>\n",
              "      <th>4</th>\n",
              "      <td>T0002</td>\n",
              "      <td>IMG_1837_2020</td>\n",
              "      <td>Mascarida</td>\n",
              "      <td>August</td>\n",
              "      <td>2020</td>\n",
              "      <td>U</td>\n",
              "    </tr>\n",
              "    <tr>\n",
              "      <th>...</th>\n",
              "      <td>...</td>\n",
              "      <td>...</td>\n",
              "      <td>...</td>\n",
              "      <td>...</td>\n",
              "      <td>...</td>\n",
              "      <td>...</td>\n",
              "    </tr>\n",
              "    <tr>\n",
              "      <th>1557</th>\n",
              "      <td>L0016</td>\n",
              "      <td>IMG_1571_2021</td>\n",
              "      <td>Torrent de la Muga</td>\n",
              "      <td>July</td>\n",
              "      <td>2021</td>\n",
              "      <td>U</td>\n",
              "    </tr>\n",
              "    <tr>\n",
              "      <th>1558</th>\n",
              "      <td>L0016</td>\n",
              "      <td>IMG_1572_2021</td>\n",
              "      <td>Torrent de la Muga</td>\n",
              "      <td>July</td>\n",
              "      <td>2021</td>\n",
              "      <td>U</td>\n",
              "    </tr>\n",
              "    <tr>\n",
              "      <th>1559</th>\n",
              "      <td>L0016</td>\n",
              "      <td>IMG_1573_2021</td>\n",
              "      <td>Torrent de la Muga</td>\n",
              "      <td>July</td>\n",
              "      <td>2021</td>\n",
              "      <td>U</td>\n",
              "    </tr>\n",
              "    <tr>\n",
              "      <th>1560</th>\n",
              "      <td>L0016</td>\n",
              "      <td>IMG_1574_2021</td>\n",
              "      <td>Torrent de la Muga</td>\n",
              "      <td>July</td>\n",
              "      <td>2021</td>\n",
              "      <td>U</td>\n",
              "    </tr>\n",
              "    <tr>\n",
              "      <th>1561</th>\n",
              "      <td>L0016</td>\n",
              "      <td>IMG_1575_2021</td>\n",
              "      <td>Torrent de la Muga</td>\n",
              "      <td>July</td>\n",
              "      <td>2021</td>\n",
              "      <td>U</td>\n",
              "    </tr>\n",
              "  </tbody>\n",
              "</table>\n",
              "<p>1562 rows × 6 columns</p>\n",
              "</div>\n",
              "    <div class=\"colab-df-buttons\">\n",
              "\n",
              "  <div class=\"colab-df-container\">\n",
              "    <button class=\"colab-df-convert\" onclick=\"convertToInteractive('df-439c7ac7-9f3c-44bc-b758-068f77463185')\"\n",
              "            title=\"Convert this dataframe to an interactive table.\"\n",
              "            style=\"display:none;\">\n",
              "\n",
              "  <svg xmlns=\"http://www.w3.org/2000/svg\" height=\"24px\" viewBox=\"0 -960 960 960\">\n",
              "    <path d=\"M120-120v-720h720v720H120Zm60-500h600v-160H180v160Zm220 220h160v-160H400v160Zm0 220h160v-160H400v160ZM180-400h160v-160H180v160Zm440 0h160v-160H620v160ZM180-180h160v-160H180v160Zm440 0h160v-160H620v160Z\"/>\n",
              "  </svg>\n",
              "    </button>\n",
              "\n",
              "  <style>\n",
              "    .colab-df-container {\n",
              "      display:flex;\n",
              "      gap: 12px;\n",
              "    }\n",
              "\n",
              "    .colab-df-convert {\n",
              "      background-color: #E8F0FE;\n",
              "      border: none;\n",
              "      border-radius: 50%;\n",
              "      cursor: pointer;\n",
              "      display: none;\n",
              "      fill: #1967D2;\n",
              "      height: 32px;\n",
              "      padding: 0 0 0 0;\n",
              "      width: 32px;\n",
              "    }\n",
              "\n",
              "    .colab-df-convert:hover {\n",
              "      background-color: #E2EBFA;\n",
              "      box-shadow: 0px 1px 2px rgba(60, 64, 67, 0.3), 0px 1px 3px 1px rgba(60, 64, 67, 0.15);\n",
              "      fill: #174EA6;\n",
              "    }\n",
              "\n",
              "    .colab-df-buttons div {\n",
              "      margin-bottom: 4px;\n",
              "    }\n",
              "\n",
              "    [theme=dark] .colab-df-convert {\n",
              "      background-color: #3B4455;\n",
              "      fill: #D2E3FC;\n",
              "    }\n",
              "\n",
              "    [theme=dark] .colab-df-convert:hover {\n",
              "      background-color: #434B5C;\n",
              "      box-shadow: 0px 1px 3px 1px rgba(0, 0, 0, 0.15);\n",
              "      filter: drop-shadow(0px 1px 2px rgba(0, 0, 0, 0.3));\n",
              "      fill: #FFFFFF;\n",
              "    }\n",
              "  </style>\n",
              "\n",
              "    <script>\n",
              "      const buttonEl =\n",
              "        document.querySelector('#df-439c7ac7-9f3c-44bc-b758-068f77463185 button.colab-df-convert');\n",
              "      buttonEl.style.display =\n",
              "        google.colab.kernel.accessAllowed ? 'block' : 'none';\n",
              "\n",
              "      async function convertToInteractive(key) {\n",
              "        const element = document.querySelector('#df-439c7ac7-9f3c-44bc-b758-068f77463185');\n",
              "        const dataTable =\n",
              "          await google.colab.kernel.invokeFunction('convertToInteractive',\n",
              "                                                    [key], {});\n",
              "        if (!dataTable) return;\n",
              "\n",
              "        const docLinkHtml = 'Like what you see? Visit the ' +\n",
              "          '<a target=\"_blank\" href=https://colab.research.google.com/notebooks/data_table.ipynb>data table notebook</a>'\n",
              "          + ' to learn more about interactive tables.';\n",
              "        element.innerHTML = '';\n",
              "        dataTable['output_type'] = 'display_data';\n",
              "        await google.colab.output.renderOutput(dataTable, element);\n",
              "        const docLink = document.createElement('div');\n",
              "        docLink.innerHTML = docLinkHtml;\n",
              "        element.appendChild(docLink);\n",
              "      }\n",
              "    </script>\n",
              "  </div>\n",
              "\n",
              "\n",
              "<div id=\"df-4490c34f-5974-4ae0-aa72-40a84cd3a73d\">\n",
              "  <button class=\"colab-df-quickchart\" onclick=\"quickchart('df-4490c34f-5974-4ae0-aa72-40a84cd3a73d')\"\n",
              "            title=\"Suggest charts\"\n",
              "            style=\"display:none;\">\n",
              "\n",
              "<svg xmlns=\"http://www.w3.org/2000/svg\" height=\"24px\"viewBox=\"0 0 24 24\"\n",
              "     width=\"24px\">\n",
              "    <g>\n",
              "        <path d=\"M19 3H5c-1.1 0-2 .9-2 2v14c0 1.1.9 2 2 2h14c1.1 0 2-.9 2-2V5c0-1.1-.9-2-2-2zM9 17H7v-7h2v7zm4 0h-2V7h2v10zm4 0h-2v-4h2v4z\"/>\n",
              "    </g>\n",
              "</svg>\n",
              "  </button>\n",
              "\n",
              "<style>\n",
              "  .colab-df-quickchart {\n",
              "      --bg-color: #E8F0FE;\n",
              "      --fill-color: #1967D2;\n",
              "      --hover-bg-color: #E2EBFA;\n",
              "      --hover-fill-color: #174EA6;\n",
              "      --disabled-fill-color: #AAA;\n",
              "      --disabled-bg-color: #DDD;\n",
              "  }\n",
              "\n",
              "  [theme=dark] .colab-df-quickchart {\n",
              "      --bg-color: #3B4455;\n",
              "      --fill-color: #D2E3FC;\n",
              "      --hover-bg-color: #434B5C;\n",
              "      --hover-fill-color: #FFFFFF;\n",
              "      --disabled-bg-color: #3B4455;\n",
              "      --disabled-fill-color: #666;\n",
              "  }\n",
              "\n",
              "  .colab-df-quickchart {\n",
              "    background-color: var(--bg-color);\n",
              "    border: none;\n",
              "    border-radius: 50%;\n",
              "    cursor: pointer;\n",
              "    display: none;\n",
              "    fill: var(--fill-color);\n",
              "    height: 32px;\n",
              "    padding: 0;\n",
              "    width: 32px;\n",
              "  }\n",
              "\n",
              "  .colab-df-quickchart:hover {\n",
              "    background-color: var(--hover-bg-color);\n",
              "    box-shadow: 0 1px 2px rgba(60, 64, 67, 0.3), 0 1px 3px 1px rgba(60, 64, 67, 0.15);\n",
              "    fill: var(--button-hover-fill-color);\n",
              "  }\n",
              "\n",
              "  .colab-df-quickchart-complete:disabled,\n",
              "  .colab-df-quickchart-complete:disabled:hover {\n",
              "    background-color: var(--disabled-bg-color);\n",
              "    fill: var(--disabled-fill-color);\n",
              "    box-shadow: none;\n",
              "  }\n",
              "\n",
              "  .colab-df-spinner {\n",
              "    border: 2px solid var(--fill-color);\n",
              "    border-color: transparent;\n",
              "    border-bottom-color: var(--fill-color);\n",
              "    animation:\n",
              "      spin 1s steps(1) infinite;\n",
              "  }\n",
              "\n",
              "  @keyframes spin {\n",
              "    0% {\n",
              "      border-color: transparent;\n",
              "      border-bottom-color: var(--fill-color);\n",
              "      border-left-color: var(--fill-color);\n",
              "    }\n",
              "    20% {\n",
              "      border-color: transparent;\n",
              "      border-left-color: var(--fill-color);\n",
              "      border-top-color: var(--fill-color);\n",
              "    }\n",
              "    30% {\n",
              "      border-color: transparent;\n",
              "      border-left-color: var(--fill-color);\n",
              "      border-top-color: var(--fill-color);\n",
              "      border-right-color: var(--fill-color);\n",
              "    }\n",
              "    40% {\n",
              "      border-color: transparent;\n",
              "      border-right-color: var(--fill-color);\n",
              "      border-top-color: var(--fill-color);\n",
              "    }\n",
              "    60% {\n",
              "      border-color: transparent;\n",
              "      border-right-color: var(--fill-color);\n",
              "    }\n",
              "    80% {\n",
              "      border-color: transparent;\n",
              "      border-right-color: var(--fill-color);\n",
              "      border-bottom-color: var(--fill-color);\n",
              "    }\n",
              "    90% {\n",
              "      border-color: transparent;\n",
              "      border-bottom-color: var(--fill-color);\n",
              "    }\n",
              "  }\n",
              "</style>\n",
              "\n",
              "  <script>\n",
              "    async function quickchart(key) {\n",
              "      const quickchartButtonEl =\n",
              "        document.querySelector('#' + key + ' button');\n",
              "      quickchartButtonEl.disabled = true;  // To prevent multiple clicks.\n",
              "      quickchartButtonEl.classList.add('colab-df-spinner');\n",
              "      try {\n",
              "        const charts = await google.colab.kernel.invokeFunction(\n",
              "            'suggestCharts', [key], {});\n",
              "      } catch (error) {\n",
              "        console.error('Error during call to suggestCharts:', error);\n",
              "      }\n",
              "      quickchartButtonEl.classList.remove('colab-df-spinner');\n",
              "      quickchartButtonEl.classList.add('colab-df-quickchart-complete');\n",
              "    }\n",
              "    (() => {\n",
              "      let quickchartButtonEl =\n",
              "        document.querySelector('#df-4490c34f-5974-4ae0-aa72-40a84cd3a73d button');\n",
              "      quickchartButtonEl.style.display =\n",
              "        google.colab.kernel.accessAllowed ? 'block' : 'none';\n",
              "    })();\n",
              "  </script>\n",
              "</div>\n",
              "    </div>\n",
              "  </div>\n"
            ]
          },
          "metadata": {}
        },
        {
          "output_type": "execute_result",
          "data": {
            "text/plain": [
              "L0016    16\n",
              "F0003    13\n",
              "K0019    12\n",
              "K0002    12\n",
              "L0002    11\n",
              "         ..\n",
              "T0051     2\n",
              "A0004     2\n",
              "T0065     2\n",
              "E0026     2\n",
              "E0025     2\n",
              "Name: Triton, Length: 311, dtype: int64"
            ]
          },
          "metadata": {},
          "execution_count": 38
        }
      ],
      "source": [
        "dft = pd.read_excel(BASE_FOLDER + 'TritonesCorrespondencias.xlsx', sheet_name=\"Todas\")\n",
        "display(dft)\n",
        "dft.Triton.value_counts()"
      ]
    },
    {
      "cell_type": "markdown",
      "source": [
        "We read the cut images"
      ],
      "metadata": {
        "id": "9wgtZu-yDGod"
      }
    },
    {
      "cell_type": "code",
      "execution_count": null,
      "metadata": {
        "id": "c5cf4325hDUa"
      },
      "outputs": [],
      "source": [
        "direct = BASE_FOLDER + 'Bellies_error'\n",
        "\n",
        "imgs, names = [], []\n",
        "for item in os.listdir(direct):\n",
        "  img = cv2.imread(os.path.join(direct, item))\n",
        "  imgs.append(img)\n",
        "  names.append(item)"
      ]
    },
    {
      "cell_type": "code",
      "execution_count": null,
      "metadata": {
        "id": "XSAxnymQhFh8"
      },
      "outputs": [],
      "source": [
        "names = [sub.replace('.jpg', '') for sub in names]\n",
        "\n",
        "# create dictionary\n",
        "dictionary = {}\n",
        "for i, im in enumerate(imgs):\n",
        "  dictionary[names[i]] = im\n",
        "\n",
        "# Create dictionary of dictionaries\n",
        "dictionary_names = (dft.groupby('Triton')\n",
        "       .apply(lambda x: dict(x['Image']))\n",
        "       .to_dict())"
      ]
    },
    {
      "cell_type": "code",
      "execution_count": null,
      "metadata": {
        "id": "dNjomJoAhHGA"
      },
      "outputs": [],
      "source": [
        "tritones, ims = [], []\n",
        "for i, name in enumerate(names):\n",
        "  for triton, images in dictionary_names.items():\n",
        "    for key in images:\n",
        "      if images[key] == name:\n",
        "          tritones.append(triton)\n",
        "          ims.append(imgs[i])"
      ]
    },
    {
      "cell_type": "markdown",
      "source": [
        "We define X as the images and Y as the individual labels"
      ],
      "metadata": {
        "id": "fg323pazDMk-"
      }
    },
    {
      "cell_type": "code",
      "execution_count": null,
      "metadata": {
        "id": "rrehPvRIhKl-"
      },
      "outputs": [],
      "source": [
        "Y = tritones\n",
        "X1 = np.stack(ims, axis=0)"
      ]
    },
    {
      "cell_type": "markdown",
      "source": [
        "Shuffle randomly and save one image of each individual for the testing set"
      ],
      "metadata": {
        "id": "h2WP62D37fYH"
      }
    },
    {
      "cell_type": "code",
      "source": [
        "indx_shuffle = np.arange(len(Y))\n",
        "np.random.shuffle(indx_shuffle)\n",
        "Y_shuffle = np.array(Y)[indx_shuffle]\n",
        "X_shuffle = X1[indx_shuffle]"
      ],
      "metadata": {
        "id": "0x0lvHlz5_VS"
      },
      "execution_count": null,
      "outputs": []
    },
    {
      "cell_type": "code",
      "source": [
        "unique_element, unique_indx = np.unique(Y_shuffle, return_index = True)\n",
        "mask_indx = np.isin(np.arange(len(X_shuffle)), unique_indx)"
      ],
      "metadata": {
        "id": "8OOZd1nV6SNQ"
      },
      "execution_count": null,
      "outputs": []
    },
    {
      "cell_type": "code",
      "source": [
        "import random\n",
        "mask_indx[random.randint(sum(mask_indx), len(mask_indx)-1)] = True"
      ],
      "metadata": {
        "id": "kTndr_uh6y3g"
      },
      "execution_count": null,
      "outputs": []
    },
    {
      "cell_type": "code",
      "source": [
        "X_test = X_shuffle[mask_indx]\n",
        "Y_test = Y_shuffle[mask_indx]\n",
        "\n",
        "X_tv = X_shuffle[~mask_indx]\n",
        "Y_tv = Y_shuffle[~mask_indx]"
      ],
      "metadata": {
        "id": "CInQ-9FE6SVS"
      },
      "execution_count": null,
      "outputs": []
    },
    {
      "cell_type": "markdown",
      "source": [
        "We check the numer of images and labels for testing"
      ],
      "metadata": {
        "id": "bSEzRCE_xBW6"
      }
    },
    {
      "cell_type": "code",
      "source": [
        "len(np.unique(Y_test)), len(Y_test)"
      ],
      "metadata": {
        "colab": {
          "base_uri": "https://localhost:8080/"
        },
        "id": "Ka6D_5Nh6VXL",
        "outputId": "a9f77214-a976-434f-a6da-4352b2736898"
      },
      "execution_count": null,
      "outputs": [
        {
          "output_type": "execute_result",
          "data": {
            "text/plain": [
              "(311, 312)"
            ]
          },
          "metadata": {},
          "execution_count": 47
        }
      ]
    },
    {
      "cell_type": "code",
      "source": [
        "len(np.unique(Y_tv)), len(Y_tv)"
      ],
      "metadata": {
        "colab": {
          "base_uri": "https://localhost:8080/"
        },
        "id": "7M_zuqG0A1jG",
        "outputId": "49bcfef5-7f9d-41a6-b3c6-ebdbf2037c08"
      },
      "execution_count": null,
      "outputs": [
        {
          "output_type": "execute_result",
          "data": {
            "text/plain": [
              "(311, 1248)"
            ]
          },
          "metadata": {},
          "execution_count": 48
        }
      ]
    },
    {
      "cell_type": "markdown",
      "source": [
        "Now not all the individuals had two images. In order to be able to split into validation and training we check which individuals had only one image and duplicate this ones with an augmentation method (randoom rotation)"
      ],
      "metadata": {
        "id": "khIQG8dF7mYb"
      }
    },
    {
      "cell_type": "code",
      "source": [
        "unique_tv_labs, unique_tv_indx, unique_tv_count = np.unique(Y_tv, return_index=True, return_counts=True)\n",
        "indx_with_one, lab_with_one = unique_tv_indx[unique_tv_count == 1], unique_tv_labs[unique_tv_count == 1]"
      ],
      "metadata": {
        "id": "i5H39IWU79HU"
      },
      "execution_count": null,
      "outputs": []
    },
    {
      "cell_type": "code",
      "source": [
        "X_tv_one_dup = [tf.image.flip_left_right(x) for x in X_tv[indx_with_one]]"
      ],
      "metadata": {
        "id": "sC3oBx009LCy"
      },
      "execution_count": null,
      "outputs": []
    },
    {
      "cell_type": "code",
      "source": [
        "X_tv = np.concatenate((X_tv, X_tv_one_dup))\n",
        "Y_tv = np.concatenate((Y_tv, lab_with_one))"
      ],
      "metadata": {
        "id": "HiQhqwlG9n5K"
      },
      "execution_count": null,
      "outputs": []
    },
    {
      "cell_type": "code",
      "source": [
        "len(np.unique(Y_tv)), len(Y_tv)"
      ],
      "metadata": {
        "colab": {
          "base_uri": "https://localhost:8080/"
        },
        "id": "vTUS4gnM-hD6",
        "outputId": "bf1515cc-e9f2-4de5-85bf-93061598098f"
      },
      "execution_count": null,
      "outputs": [
        {
          "output_type": "execute_result",
          "data": {
            "text/plain": [
              "(311, 1258)"
            ]
          },
          "metadata": {},
          "execution_count": 52
        }
      ]
    },
    {
      "cell_type": "markdown",
      "source": [
        "Now that all the individuals had minimum two images, we randomly split again into training and validation"
      ],
      "metadata": {
        "id": "5I1Wi-H595T7"
      }
    },
    {
      "cell_type": "code",
      "source": [
        "indx_shuffle = np.arange(len(Y_tv))\n",
        "np.random.shuffle(indx_shuffle)\n",
        "Y_tv = np.array(Y_tv)[indx_shuffle]\n",
        "X_tv = X_tv[indx_shuffle]"
      ],
      "metadata": {
        "id": "ga-nss8nvEq0"
      },
      "execution_count": null,
      "outputs": []
    },
    {
      "cell_type": "code",
      "source": [
        "unique_element_tv, unique_indx_tv = np.unique(Y_tv, return_index = True)\n",
        "mask_indx_tv = np.isin(np.arange(len(X_tv)), unique_indx_tv)"
      ],
      "metadata": {
        "id": "UHBhWrxIqzZZ"
      },
      "execution_count": null,
      "outputs": []
    },
    {
      "cell_type": "code",
      "source": [
        "mask_indx_tv[random.randint(sum(mask_indx_tv), len(mask_indx_tv)-1)] = True"
      ],
      "metadata": {
        "id": "nctCSeUBwCuk"
      },
      "execution_count": null,
      "outputs": []
    },
    {
      "cell_type": "code",
      "source": [
        "X_val = X_tv[mask_indx_tv]\n",
        "Y_val = Y_tv[mask_indx_tv]\n",
        "\n",
        "X_train = X_tv[~mask_indx_tv]\n",
        "Y_train = Y_tv[~mask_indx_tv]"
      ],
      "metadata": {
        "id": "rWl8Iz_prWJJ"
      },
      "execution_count": null,
      "outputs": []
    },
    {
      "cell_type": "markdown",
      "source": [
        "We check the validation and training set sizes"
      ],
      "metadata": {
        "id": "-u76EVepxxhl"
      }
    },
    {
      "cell_type": "code",
      "source": [
        "len(np.unique(Y_val)), len(Y_val)"
      ],
      "metadata": {
        "colab": {
          "base_uri": "https://localhost:8080/"
        },
        "id": "iSsEKTwvE6m1",
        "outputId": "cd39c307-24f5-4a38-bf9f-bc2c67fb6680"
      },
      "execution_count": null,
      "outputs": [
        {
          "output_type": "execute_result",
          "data": {
            "text/plain": [
              "(311, 312)"
            ]
          },
          "metadata": {},
          "execution_count": 57
        }
      ]
    },
    {
      "cell_type": "code",
      "source": [
        "len(np.unique(Y_train)), len(Y_train)"
      ],
      "metadata": {
        "colab": {
          "base_uri": "https://localhost:8080/"
        },
        "id": "yuGr4Eq_E6a2",
        "outputId": "84afecbf-7ed2-47fe-ae42-7aa4283a1df3"
      },
      "execution_count": null,
      "outputs": [
        {
          "output_type": "execute_result",
          "data": {
            "text/plain": [
              "(311, 946)"
            ]
          },
          "metadata": {},
          "execution_count": 58
        }
      ]
    },
    {
      "cell_type": "markdown",
      "source": [
        "Now we have split data into training, validation and testing we perform data augmentation in training set."
      ],
      "metadata": {
        "id": "_RXVmIJqwe1q"
      }
    },
    {
      "cell_type": "code",
      "execution_count": null,
      "metadata": {
        "id": "pdRBvjMSnywj"
      },
      "outputs": [],
      "source": [
        "X_train_flipped = [tf.image.flip_left_right(x) for x in X_train]\n",
        "X_train_zoom = [tf.keras.preprocessing.image.random_zoom(x, (60, 200)) for x in X_train]"
      ]
    },
    {
      "cell_type": "code",
      "source": [
        "YYY_train = np.concatenate((Y_train, Y_train, Y_train))\n",
        "XXX_train = np.concatenate((X_train, X_train_flipped, X_train_zoom))\n",
        "\n",
        "indx_train = np.arange(len(YYY_train))\n",
        "np.random.shuffle(indx_train)\n",
        "YYY_train = [YYY_train[i] for i in indx_train]\n",
        "XXX_train = XXX_train[indx_train]"
      ],
      "metadata": {
        "id": "2nSH8FKt-qOl"
      },
      "execution_count": null,
      "outputs": []
    },
    {
      "cell_type": "code",
      "execution_count": null,
      "metadata": {
        "id": "h6JDm5bFhfYT"
      },
      "outputs": [],
      "source": [
        "XXX_train = np.stack(XXX_train, axis=0)\n",
        "X_val = np.stack(X_val, axis=0)\n",
        "X_test = np.stack(X_test, axis=0)\n",
        "\n",
        "YYY_train = np.array(YYY_train)\n",
        "Y_val = np.array(Y_val)\n",
        "Y_test = np.array(Y_test)\n",
        "\n",
        "YYY_train = YYY_train.reshape((len(YYY_train), 1))\n",
        "Y_val = Y_val.reshape((len(Y_val), 1))\n",
        "Y_test = Y_test.reshape((len(Y_test), 1))"
      ]
    },
    {
      "cell_type": "markdown",
      "source": [
        "Once the sets were prepared we one-hot them"
      ],
      "metadata": {
        "id": "LBng-LWIzLOa"
      }
    },
    {
      "cell_type": "code",
      "execution_count": null,
      "metadata": {
        "id": "NiFzwH3Shr61"
      },
      "outputs": [],
      "source": [
        "from sklearn.preprocessing import LabelBinarizer\n",
        "\n",
        "encoder = LabelBinarizer()\n",
        "YYY_train_enc = encoder.fit_transform(YYY_train)\n",
        "\n",
        "Y_val_enc = encoder.fit_transform(Y_val)\n",
        "\n",
        "Y_test_enc = encoder.fit_transform(Y_test)\n",
        "\n",
        "\n",
        "YYY_train_enc = np.array(YYY_train_enc)\n",
        "Y_val_enc = np.array(Y_val_enc)\n",
        "Y_test_enc = np.array(Y_test_enc)"
      ]
    },
    {
      "cell_type": "code",
      "execution_count": null,
      "metadata": {
        "id": "WItLziGphvOa"
      },
      "outputs": [],
      "source": [
        "YYY_train_position = np.argmax(YYY_train_enc, axis=1)\n",
        "dictionary_position = dict(zip(YYY_train_position, YYY_train))"
      ]
    },
    {
      "cell_type": "code",
      "execution_count": null,
      "metadata": {
        "id": "VAAyDsuWh8E6"
      },
      "outputs": [],
      "source": [
        "\"\"\"\n",
        "from keras.models import Sequential\n",
        "from keras.layers import (\n",
        "    Conv2D, MaxPooling2D, Flatten,\n",
        "    Dense, Dropout, Activation, BatchNormalization\n",
        ")\n",
        "from keras import regularizers, optimizers, metrics\n",
        "# from keras.optimizers import Adam\n",
        "\n",
        "model = Sequential()\n",
        "# data_augmentation,\n",
        "model.add(Conv2D(32, (3, 3),\n",
        "                 activation='relu',\n",
        "                 padding='same',\n",
        "                 input_shape=(200, 60, 3))) # !!!!\n",
        "# model.add(Conv2D(64, (3, 3), activation='relu'))\n",
        "model.add(MaxPooling2D(pool_size=(2, 2)))\n",
        "model.add(Dropout(0.25))\n",
        "\n",
        "model.add(Conv2D(64, (3, 3), padding='same', activation='relu'))\n",
        "model.add(Conv2D(64, (3, 3), activation='relu'))\n",
        "model.add(MaxPooling2D(pool_size=(2, 2)))\n",
        "model.add(Dropout(0.25))\n",
        "\n",
        "model.add(Flatten())\n",
        "model.add(Dense(512))\n",
        "model.add(Activation('relu'))\n",
        "model.add(Dropout(0.5))\n",
        "model.add(Dense(311, activation='softmax')) # Number of final clases!\n",
        "\n",
        "model.compile(optimizers.RMSprop(learning_rate=0.001),\n",
        "              loss=\"categorical_crossentropy\",\n",
        "              metrics=[\"accuracy\", keras.metrics.Precision(), keras.metrics.Recall()])\n",
        "\"\"\""
      ]
    },
    {
      "cell_type": "code",
      "source": [
        "\"\"\"\n",
        "from keras.models import Sequential\n",
        "from keras.layers import (\n",
        "    Conv2D, MaxPooling2D, GlobalMaxPooling2D, Flatten,\n",
        "    Dense, Dropout, Activation, BatchNormalization, LeakyReLU\n",
        ")\n",
        "from keras import regularizers, optimizers, metrics\n",
        "# from keras.optimizers import Adam\n",
        "\n",
        "self_cnn = Sequential()\n",
        "# data_augmentation,\n",
        "self_cnn.add(Conv2D(32, (3, 3),\n",
        "                 padding='same',\n",
        "                 input_shape=(200, 60, 3))) # !!!!\n",
        "self_cnn.add(LeakyReLU(0.02))\n",
        "# model.add(Conv2D(64, (3, 3), activation='relu'))\n",
        "self_cnn.add(MaxPooling2D(pool_size=(2, 2)))\n",
        "# model.add(Dropout(0.25))\n",
        "\n",
        "self_cnn.add(Conv2D(64, (3, 3), padding='same'))\n",
        "self_cnn.add(LeakyReLU(0.02))\n",
        "# model.add(Conv2D(64, (3, 3), activation='relu'))\n",
        "self_cnn.add(GlobalMaxPooling2D())\n",
        "self_cnn.add(Dropout(0.25))\n",
        "\n",
        "self_cnn.add(Flatten())\n",
        "self_cnn.add(Dense(512))\n",
        "self_cnn.add(Activation('relu'))\n",
        "self_cnn.add(Dropout(0.5))\n",
        "self_cnn.add(Dense(311, activation='softmax')) # Number of final clases!\n",
        "\n",
        "self_cnn.compile(optimizers.RMSprop(learning_rate=0.001),\n",
        "              loss=\"categorical_crossentropy\",\n",
        "              metrics=[\"accuracy\", keras.metrics.Precision(), keras.metrics.Recall()])\n",
        "\"\"\""
      ],
      "metadata": {
        "id": "lYAoDYvzqekV"
      },
      "execution_count": null,
      "outputs": []
    },
    {
      "cell_type": "markdown",
      "source": [
        "### We prepared the structure of the CNN"
      ],
      "metadata": {
        "id": "RS0DFji_zhiA"
      }
    },
    {
      "cell_type": "code",
      "source": [
        "from keras.models import Sequential\n",
        "from keras.layers import (\n",
        "    Conv2D, MaxPooling2D, Flatten,\n",
        "    Dense, Dropout, Activation, BatchNormalization\n",
        ")\n",
        "from keras import regularizers, optimizers, metrics\n",
        "from keras.optimizers import Adam\n",
        "\n",
        "self_cnn = Sequential()\n",
        "# data_augmentation,\n",
        "self_cnn.add(Conv2D(32, (3, 3),\n",
        "                 activation='relu',\n",
        "                 padding='same',\n",
        "                 input_shape=(200, 60, 3)))\n",
        "self_cnn.add(Conv2D(64, (3, 3), activation='relu'))\n",
        "self_cnn.add(MaxPooling2D(pool_size=(2, 2)))\n",
        "self_cnn.add(Dropout(0.25))\n",
        "\n",
        "self_cnn.add(Conv2D(64, (3, 3), padding='same', activation='relu'))\n",
        "self_cnn.add(Conv2D(64, (3, 3), activation='relu'))\n",
        "self_cnn.add(MaxPooling2D(pool_size=(2, 2)))\n",
        "self_cnn.add(Dropout(0.25))\n",
        "\n",
        "self_cnn.add(Flatten())\n",
        "self_cnn.add(Dense(512))\n",
        "self_cnn.add(Activation('relu'))\n",
        "self_cnn.add(Dropout(0.5))\n",
        "self_cnn.add(Dense(311, activation='softmax')) # Number of final clases!"
      ],
      "metadata": {
        "id": "y_qi_0OV6DIQ"
      },
      "execution_count": null,
      "outputs": []
    },
    {
      "cell_type": "code",
      "execution_count": null,
      "metadata": {
        "id": "m616GVj2eFHi",
        "colab": {
          "base_uri": "https://localhost:8080/"
        },
        "outputId": "97daf77d-b1c7-4e75-ef8a-b119345e486f"
      },
      "outputs": [
        {
          "output_type": "stream",
          "name": "stdout",
          "text": [
            "Model: \"sequential_1\"\n",
            "_________________________________________________________________\n",
            " Layer (type)                Output Shape              Param #   \n",
            "=================================================================\n",
            " conv2d_4 (Conv2D)           (None, 200, 60, 32)       896       \n",
            "                                                                 \n",
            " conv2d_5 (Conv2D)           (None, 198, 58, 64)       18496     \n",
            "                                                                 \n",
            " max_pooling2d_2 (MaxPoolin  (None, 99, 29, 64)        0         \n",
            " g2D)                                                            \n",
            "                                                                 \n",
            " dropout_3 (Dropout)         (None, 99, 29, 64)        0         \n",
            "                                                                 \n",
            " conv2d_6 (Conv2D)           (None, 99, 29, 64)        36928     \n",
            "                                                                 \n",
            " conv2d_7 (Conv2D)           (None, 97, 27, 64)        36928     \n",
            "                                                                 \n",
            " max_pooling2d_3 (MaxPoolin  (None, 48, 13, 64)        0         \n",
            " g2D)                                                            \n",
            "                                                                 \n",
            " dropout_4 (Dropout)         (None, 48, 13, 64)        0         \n",
            "                                                                 \n",
            " flatten_1 (Flatten)         (None, 39936)             0         \n",
            "                                                                 \n",
            " dense_2 (Dense)             (None, 512)               20447744  \n",
            "                                                                 \n",
            " activation_1 (Activation)   (None, 512)               0         \n",
            "                                                                 \n",
            " dropout_5 (Dropout)         (None, 512)               0         \n",
            "                                                                 \n",
            " dense_3 (Dense)             (None, 311)               159543    \n",
            "                                                                 \n",
            "=================================================================\n",
            "Total params: 20700535 (78.97 MB)\n",
            "Trainable params: 20700535 (78.97 MB)\n",
            "Non-trainable params: 0 (0.00 Byte)\n",
            "_________________________________________________________________\n"
          ]
        }
      ],
      "source": [
        "self_cnn.summary()"
      ]
    },
    {
      "cell_type": "code",
      "source": [
        "from keras.utils import plot_model\n",
        "plot_model(self_cnn, to_file='CNNmodelDataAugmentation_X.png', show_shapes=True)"
      ],
      "metadata": {
        "colab": {
          "base_uri": "https://localhost:8080/",
          "height": 1000
        },
        "id": "xTzD9x-lUXtU",
        "outputId": "8639d91b-a698-4062-8a37-bc5a60c32bf1"
      },
      "execution_count": null,
      "outputs": [
        {
          "output_type": "execute_result",
          "data": {
            "image/png": "[encoded data removed]",
            "text/plain": [
              "<IPython.core.display.Image object>"
            ]
          },
          "metadata": {},
          "execution_count": 66
        }
      ]
    },
    {
      "cell_type": "markdown",
      "source": [
        "Function to plot the evaluation metrics"
      ],
      "metadata": {
        "id": "wj7uGx6tzorX"
      }
    },
    {
      "cell_type": "code",
      "execution_count": null,
      "metadata": {
        "id": "KDR3G9SFh-7s"
      },
      "outputs": [],
      "source": [
        "def metrics_plot(mod_cnn):\n",
        "  fig, axs = plt.subplots(2, 2)\n",
        "  # Accurary\n",
        "  axs[0, 0].plot(mod_cnn.history['accuracy'])\n",
        "  axs[0, 0].plot(mod_cnn.history['val_accuracy'])\n",
        "  axs[0, 0].set(ylabel='Accuracy')\n",
        "  # axs[0, 0].xlabel('epoch')\n",
        "\n",
        "  # Loss\n",
        "  axs[0, 1].plot(mod_cnn.history['loss'])\n",
        "  axs[0, 1].plot(mod_cnn.history['val_loss'])\n",
        "  axs[0, 1].set(ylabel='Loss')\n",
        "  # axs[0, 1].xlabel('epoch')\n",
        "\n",
        "  # Precission\n",
        "  axs[1, 0].plot(mod_cnn.history['precision_1'])\n",
        "  axs[1, 0].plot(mod_cnn.history['val_precision_1'])\n",
        "  axs[1, 0].set(ylabel='Precision')\n",
        "  # axs[1, 0].xlabel('epoch')\n",
        "\n",
        "  # Recall\n",
        "  axs[1, 1].plot(mod_cnn.history['recall_1'])\n",
        "  axs[1, 1].plot(mod_cnn.history['val_recall_1'])\n",
        "  axs[1, 1].set(ylabel='Recall')\n",
        "  # axs[1, 1].xlabel('epoch')\n",
        "\n",
        "  plt.figlegend(['Train', 'Validation'], loc='lower center', ncol=2)\n",
        "  plt.show()"
      ]
    },
    {
      "cell_type": "markdown",
      "source": [
        "We compile the model"
      ],
      "metadata": {
        "id": "gLZmV2YAzt1Q"
      }
    },
    {
      "cell_type": "code",
      "source": [
        "self_cnn.compile(optimizers.RMSprop(learning_rate=0.001),\n",
        "             loss=\"categorical_crossentropy\",\n",
        "             metrics=[\"accuracy\", keras.metrics.Precision(), keras.metrics.Recall()])"
      ],
      "metadata": {
        "id": "zAA6IJqD_p4h"
      },
      "execution_count": null,
      "outputs": []
    },
    {
      "cell_type": "markdown",
      "source": [
        "Important, transform the images"
      ],
      "metadata": {
        "id": "0pbEM9Cl0Giz"
      }
    },
    {
      "cell_type": "code",
      "source": [
        "XXX_train = XXX_train/256.0\n",
        "X_val = X_val/256.0\n",
        "X_test = X_test/256.0"
      ],
      "metadata": {
        "id": "nmEXeCFB3syo"
      },
      "execution_count": null,
      "outputs": []
    },
    {
      "cell_type": "markdown",
      "source": [
        "We fit the model with 32 batch size and 30 epochs"
      ],
      "metadata": {
        "id": "EtUzkoDc0Mp2"
      }
    },
    {
      "cell_type": "code",
      "execution_count": null,
      "metadata": {
        "colab": {
          "base_uri": "https://localhost:8080/"
        },
        "id": "NgMqo7bLiC89",
        "outputId": "1387448a-a200-4ea0-90bf-ef04bdda9bac"
      },
      "outputs": [
        {
          "output_type": "stream",
          "name": "stdout",
          "text": [
            "Epoch 1/30\n",
            "89/89 [==============================] - 267s 3s/step - loss: 5.8126 - accuracy: 0.0085 - precision_1: 0.0000e+00 - recall_1: 0.0000e+00 - val_loss: 5.7971 - val_accuracy: 0.0064 - val_precision_1: 0.0000e+00 - val_recall_1: 0.0000e+00\n",
            "Epoch 2/30\n",
            "89/89 [==============================] - 274s 3s/step - loss: 5.5564 - accuracy: 0.0162 - precision_1: 0.0000e+00 - recall_1: 0.0000e+00 - val_loss: 5.7326 - val_accuracy: 0.0064 - val_precision_1: 0.0000e+00 - val_recall_1: 0.0000e+00\n",
            "Epoch 3/30\n",
            "89/89 [==============================] - 279s 3s/step - loss: 5.3844 - accuracy: 0.0314 - precision_1: 0.0000e+00 - recall_1: 0.0000e+00 - val_loss: 5.5982 - val_accuracy: 0.0321 - val_precision_1: 0.0000e+00 - val_recall_1: 0.0000e+00\n",
            "Epoch 4/30\n",
            "89/89 [==============================] - 280s 3s/step - loss: 4.9830 - accuracy: 0.0553 - precision_1: 0.2222 - recall_1: 7.0472e-04 - val_loss: 5.4414 - val_accuracy: 0.0256 - val_precision_1: 0.0000e+00 - val_recall_1: 0.0000e+00\n",
            "Epoch 5/30\n",
            "89/89 [==============================] - 263s 3s/step - loss: 4.4618 - accuracy: 0.1121 - precision_1: 0.5484 - recall_1: 0.0120 - val_loss: 4.5252 - val_accuracy: 0.1474 - val_precision_1: 0.8000 - val_recall_1: 0.0128\n",
            "Epoch 6/30\n",
            "89/89 [==============================] - 264s 3s/step - loss: 3.9012 - accuracy: 0.2008 - precision_1: 0.6621 - recall_1: 0.0511 - val_loss: 4.2534 - val_accuracy: 0.1987 - val_precision_1: 0.5161 - val_recall_1: 0.0513\n",
            "Epoch 7/30\n",
            "89/89 [==============================] - 262s 3s/step - loss: 3.3386 - accuracy: 0.2903 - precision_1: 0.7366 - recall_1: 0.1212 - val_loss: 3.5671 - val_accuracy: 0.2949 - val_precision_1: 0.8077 - val_recall_1: 0.1346\n",
            "Epoch 8/30\n",
            "89/89 [==============================] - 263s 3s/step - loss: 2.7443 - accuracy: 0.3957 - precision_1: 0.7618 - recall_1: 0.2276 - val_loss: 4.4401 - val_accuracy: 0.2564 - val_precision_1: 0.4845 - val_recall_1: 0.1506\n",
            "Epoch 9/30\n",
            "89/89 [==============================] - 262s 3s/step - loss: 2.2515 - accuracy: 0.4813 - precision_1: 0.7974 - recall_1: 0.3273 - val_loss: 2.8580 - val_accuracy: 0.4167 - val_precision_1: 0.7544 - val_recall_1: 0.2756\n",
            "Epoch 10/30\n",
            "89/89 [==============================] - 262s 3s/step - loss: 1.7873 - accuracy: 0.5846 - precision_1: 0.8200 - recall_1: 0.4447 - val_loss: 3.1508 - val_accuracy: 0.3942 - val_precision_1: 0.7054 - val_recall_1: 0.2532\n",
            "Epoch 11/30\n",
            "89/89 [==============================] - 257s 3s/step - loss: 1.3893 - accuracy: 0.6642 - precision_1: 0.8668 - recall_1: 0.5504 - val_loss: 1.8585 - val_accuracy: 0.6154 - val_precision_1: 0.8095 - val_recall_1: 0.4904\n",
            "Epoch 12/30\n",
            "89/89 [==============================] - 258s 3s/step - loss: 1.0433 - accuracy: 0.7354 - precision_1: 0.8750 - recall_1: 0.6487 - val_loss: 1.7611 - val_accuracy: 0.6410 - val_precision_1: 0.7944 - val_recall_1: 0.5449\n",
            "Epoch 13/30\n",
            "89/89 [==============================] - 261s 3s/step - loss: 0.8182 - accuracy: 0.7893 - precision_1: 0.9051 - recall_1: 0.7262 - val_loss: 1.9399 - val_accuracy: 0.6026 - val_precision_1: 0.7678 - val_recall_1: 0.5192\n",
            "Epoch 14/30\n",
            "89/89 [==============================] - 260s 3s/step - loss: 0.6446 - accuracy: 0.8302 - precision_1: 0.9085 - recall_1: 0.7805 - val_loss: 1.7537 - val_accuracy: 0.6795 - val_precision_1: 0.7863 - val_recall_1: 0.6250\n",
            "Epoch 15/30\n",
            "89/89 [==============================] - 266s 3s/step - loss: 0.5351 - accuracy: 0.8552 - precision_1: 0.9265 - recall_1: 0.8175 - val_loss: 1.6335 - val_accuracy: 0.6891 - val_precision_1: 0.8155 - val_recall_1: 0.6090\n",
            "Epoch 16/30\n",
            "89/89 [==============================] - 260s 3s/step - loss: 0.4815 - accuracy: 0.8700 - precision_1: 0.9277 - recall_1: 0.8411 - val_loss: 3.4227 - val_accuracy: 0.4872 - val_precision_1: 0.5872 - val_recall_1: 0.4423\n",
            "Epoch 17/30\n",
            "89/89 [==============================] - 257s 3s/step - loss: 0.3991 - accuracy: 0.8915 - precision_1: 0.9369 - recall_1: 0.8633 - val_loss: 1.7138 - val_accuracy: 0.6859 - val_precision_1: 0.8072 - val_recall_1: 0.6442\n",
            "Epoch 18/30\n",
            "89/89 [==============================] - 258s 3s/step - loss: 0.3616 - accuracy: 0.8968 - precision_1: 0.9301 - recall_1: 0.8717 - val_loss: 2.4351 - val_accuracy: 0.6410 - val_precision_1: 0.7206 - val_recall_1: 0.6282\n",
            "Epoch 19/30\n",
            "89/89 [==============================] - 259s 3s/step - loss: 0.2991 - accuracy: 0.9098 - precision_1: 0.9362 - recall_1: 0.8901 - val_loss: 1.8261 - val_accuracy: 0.6763 - val_precision_1: 0.7406 - val_recall_1: 0.6314\n",
            "Epoch 20/30\n",
            "89/89 [==============================] - 259s 3s/step - loss: 0.2617 - accuracy: 0.9228 - precision_1: 0.9482 - recall_1: 0.9101 - val_loss: 1.6934 - val_accuracy: 0.7276 - val_precision_1: 0.8023 - val_recall_1: 0.6763\n",
            "Epoch 21/30\n",
            "89/89 [==============================] - 256s 3s/step - loss: 0.2103 - accuracy: 0.9366 - precision_1: 0.9551 - recall_1: 0.9228 - val_loss: 2.0630 - val_accuracy: 0.6763 - val_precision_1: 0.7621 - val_recall_1: 0.6571\n",
            "Epoch 22/30\n",
            "89/89 [==============================] - 257s 3s/step - loss: 0.2243 - accuracy: 0.9345 - precision_1: 0.9510 - recall_1: 0.9239 - val_loss: 1.8116 - val_accuracy: 0.7147 - val_precision_1: 0.7758 - val_recall_1: 0.6987\n",
            "Epoch 23/30\n",
            "89/89 [==============================] - 259s 3s/step - loss: 0.1804 - accuracy: 0.9486 - precision_1: 0.9601 - recall_1: 0.9405 - val_loss: 1.9127 - val_accuracy: 0.7115 - val_precision_1: 0.7849 - val_recall_1: 0.7019\n",
            "Epoch 24/30\n",
            "89/89 [==============================] - 261s 3s/step - loss: 0.1696 - accuracy: 0.9496 - precision_1: 0.9587 - recall_1: 0.9412 - val_loss: 1.8163 - val_accuracy: 0.6923 - val_precision_1: 0.8077 - val_recall_1: 0.6731\n",
            "Epoch 25/30\n",
            "89/89 [==============================] - 262s 3s/step - loss: 0.1718 - accuracy: 0.9545 - precision_1: 0.9658 - recall_1: 0.9464 - val_loss: 1.8470 - val_accuracy: 0.7083 - val_precision_1: 0.7770 - val_recall_1: 0.6923\n",
            "Epoch 26/30\n",
            "89/89 [==============================] - 260s 3s/step - loss: 0.1807 - accuracy: 0.9500 - precision_1: 0.9595 - recall_1: 0.9422 - val_loss: 1.9434 - val_accuracy: 0.7212 - val_precision_1: 0.7798 - val_recall_1: 0.6923\n",
            "Epoch 27/30\n",
            "89/89 [==============================] - 259s 3s/step - loss: 0.1312 - accuracy: 0.9648 - precision_1: 0.9693 - recall_1: 0.9563 - val_loss: 1.8097 - val_accuracy: 0.7147 - val_precision_1: 0.7921 - val_recall_1: 0.7083\n",
            "Epoch 28/30\n",
            "89/89 [==============================] - 259s 3s/step - loss: 0.1422 - accuracy: 0.9616 - precision_1: 0.9699 - recall_1: 0.9535 - val_loss: 1.9133 - val_accuracy: 0.7115 - val_precision_1: 0.7726 - val_recall_1: 0.6859\n",
            "Epoch 29/30\n",
            "89/89 [==============================] - 257s 3s/step - loss: 0.1332 - accuracy: 0.9567 - precision_1: 0.9639 - recall_1: 0.9496 - val_loss: 1.8571 - val_accuracy: 0.6859 - val_precision_1: 0.7584 - val_recall_1: 0.6538\n",
            "Epoch 30/30\n",
            "89/89 [==============================] - 260s 3s/step - loss: 0.1053 - accuracy: 0.9686 - precision_1: 0.9761 - recall_1: 0.9644 - val_loss: 2.0315 - val_accuracy: 0.7244 - val_precision_1: 0.7794 - val_recall_1: 0.7019\n"
          ]
        }
      ],
      "source": [
        "self_cnn_30epochs = self_cnn.fit(XXX_train, YYY_train_enc,\n",
        "          # steps_per_epoch=64,\n",
        "          batch_size = 32,\n",
        "          validation_data = (X_val, Y_val_enc),\n",
        "          epochs=30)"
      ]
    },
    {
      "cell_type": "code",
      "execution_count": null,
      "metadata": {
        "id": "Bu2IFSMjiIoh",
        "colab": {
          "base_uri": "https://localhost:8080/",
          "height": 455
        },
        "outputId": "bcd5dfea-0a4a-4d6d-db1f-226b087df6ab"
      },
      "outputs": [
        {
          "output_type": "display_data",
          "data": {
            "text/plain": [
              "<Figure size 640x480 with 4 Axes>"
            ],
            "image/png": "[encoded data removed]"
          },
          "metadata": {}
        }
      ],
      "source": [
        "metrics_plot(self_cnn_30epochs)"
      ]
    },
    {
      "cell_type": "markdown",
      "metadata": {
        "id": "kY4xkY-hdXUy"
      },
      "source": [
        "Model evaluation and prediction"
      ]
    },
    {
      "cell_type": "code",
      "execution_count": null,
      "metadata": {
        "id": "GTzOtaRmdgCz",
        "colab": {
          "base_uri": "https://localhost:8080/"
        },
        "outputId": "623c772d-0fb4-4fce-f1ac-04d022fa4d2f"
      },
      "outputs": [
        {
          "output_type": "stream",
          "name": "stdout",
          "text": [
            "10/10 [==============================] - 7s 666ms/step - loss: 2.3594 - accuracy: 0.6891 - precision_1: 0.7527 - recall_1: 0.6731\n",
            "Test loss and test accuracy: [2.359415292739868, 0.6891025900840759, 0.7526881694793701, 0.6730769276618958]\n"
          ]
        }
      ],
      "source": [
        "res_cnn = self_cnn.evaluate(X_test, Y_test_enc)\n",
        "print(\"Test loss and test accuracy:\", res_cnn)"
      ]
    },
    {
      "cell_type": "code",
      "execution_count": null,
      "metadata": {
        "id": "BwfoYcJzdnv7",
        "colab": {
          "base_uri": "https://localhost:8080/"
        },
        "outputId": "7b32cc10-b52e-4776-9512-a5fe64f743be"
      },
      "outputs": [
        {
          "output_type": "stream",
          "name": "stdout",
          "text": [
            "10/10 [==============================] - 9s 918ms/step\n"
          ]
        }
      ],
      "source": [
        "pred_cnn = self_cnn.predict(X_test)"
      ]
    },
    {
      "cell_type": "code",
      "source": [
        "res_pred_cnn = pd.DataFrame({'Ytest' : np.concatenate(Y_test_enc),\n",
        "                            'Prob_prediction' : np.concatenate(pred_cnn)})"
      ],
      "metadata": {
        "id": "tx5KmppQi9Pl"
      },
      "execution_count": null,
      "outputs": []
    },
    {
      "cell_type": "markdown",
      "source": [
        "Search for the best threshold"
      ],
      "metadata": {
        "id": "ZaiUY8YC0YDu"
      }
    },
    {
      "cell_type": "code",
      "source": [
        "from sklearn.metrics import f1_score, precision_recall_curve, confusion_matrix\n",
        "\n",
        "def find_best_f1_score(y_true, y_prob):\n",
        "    thresholds = np.linspace(0, 1, 1000)  # Adjust the number of thresholds as needed\n",
        "    best_threshold = None\n",
        "    best_f1_score = 0\n",
        "\n",
        "    for threshold in thresholds:\n",
        "        Y_pred_binary = (y_prob > threshold).astype(int)\n",
        "        current_f1 = f1_score(y_true, Y_pred_binary, average='micro')\n",
        "\n",
        "        if current_f1 > best_f1_score:\n",
        "            best_f1_score = current_f1\n",
        "            best_threshold = threshold\n",
        "\n",
        "    return best_threshold, best_f1_score"
      ],
      "metadata": {
        "id": "QSIQTW-gjXwO"
      },
      "execution_count": null,
      "outputs": []
    },
    {
      "cell_type": "code",
      "source": [
        "best_threshold_cnn, best_f1_score_cnn = find_best_f1_score(Y_test_enc, pred_cnn)\n",
        "\n",
        "print(f\"Best Threshold: {best_threshold_cnn}\")\n",
        "print(f\"Best F1 Score: {best_f1_score_cnn}\")"
      ],
      "metadata": {
        "colab": {
          "base_uri": "https://localhost:8080/"
        },
        "id": "-t5kqyXSm-Ub",
        "outputId": "92b5fff9-5bb4-4a56-e59c-1088b45385ad"
      },
      "execution_count": null,
      "outputs": [
        {
          "output_type": "stream",
          "name": "stdout",
          "text": [
            "Best Threshold: 0.7967967967967968\n",
            "Best F1 Score: 0.7312614259597807\n"
          ]
        }
      ]
    },
    {
      "cell_type": "code",
      "source": [
        "dt_pred_cnn = pd.DataFrame({'Y' : np.concatenate(Y_test_enc),\n",
        "                            'Prediction' : np.concatenate(pred_cnn)})"
      ],
      "metadata": {
        "id": "jDOVzIEFoJtX"
      },
      "execution_count": null,
      "outputs": []
    },
    {
      "cell_type": "code",
      "source": [
        "import matplotlib as plt\n",
        "import seaborn as sns\n",
        "\n",
        "ax = sns.boxplot(x='Y', y='Prediction', data=dt_pred_cnn, boxprops=dict(alpha=0.7))\n",
        "sns.stripplot(data=dt_pred_cnn, y='Prediction', x='Y', hue='Y',\n",
        "              alpha=0.2, legend=False)\n",
        "ax.axhline(y=best_threshold_cnn, color=\"red\", linestyle=\"--\", label=f'Best Threshold ({best_threshold_cnn:.2f})')"
      ],
      "metadata": {
        "colab": {
          "base_uri": "https://localhost:8080/",
          "height": 467
        },
        "id": "fqg0mYvwnglL",
        "outputId": "3acc5cc4-f31b-4306-d98d-3a7bd8fa502d"
      },
      "execution_count": null,
      "outputs": [
        {
          "output_type": "execute_result",
          "data": {
            "text/plain": [
              "<matplotlib.lines.Line2D at 0x7c5835dc7be0>"
            ]
          },
          "metadata": {},
          "execution_count": 114
        },
        {
          "output_type": "display_data",
          "data": {
            "text/plain": [
              "<Figure size 640x480 with 1 Axes>"
            ],
            "image/png": "[encoded data removed]"
          },
          "metadata": {}
        }
      ]
    },
    {
      "cell_type": "code",
      "source": [
        "dt_pred_cnn['YPrediction'] = np.where(dt_pred_cnn['Prediction'] >= best_threshold_cnn, 1, 0)\n",
        "confusion_matrix(dt_pred_cnn['Y'], dt_pred_cnn['YPrediction'])"
      ],
      "metadata": {
        "colab": {
          "base_uri": "https://localhost:8080/"
        },
        "id": "Wj2B5ylnpSeR",
        "outputId": "94207084-d79c-4c8a-f008-068778cbedf2"
      },
      "execution_count": null,
      "outputs": [
        {
          "output_type": "execute_result",
          "data": {
            "text/plain": [
              "array([[96685,    35],\n",
              "       [  112,   200]])"
            ]
          },
          "metadata": {},
          "execution_count": 116
        }
      ]
    }
  ],
  "metadata": {
    "colab": {
      "provenance": []
    },
    "kernelspec": {
      "display_name": "Python 3",
      "name": "python3"
    },
    "language_info": {
      "name": "python"
    }
  },
  "nbformat": 4,
  "nbformat_minor": 0
}